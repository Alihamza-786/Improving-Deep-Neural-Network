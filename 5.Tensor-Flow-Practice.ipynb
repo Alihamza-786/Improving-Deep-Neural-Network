{
 "cells": [
  {
   "cell_type": "code",
   "execution_count": 1,
   "id": "4833a3f4-7209-4664-aaf7-eae4556ec211",
   "metadata": {},
   "outputs": [],
   "source": [
    "import numpy as np\n",
    "import tensorflow as tf"
   ]
  },
  {
   "cell_type": "code",
   "execution_count": 3,
   "id": "0bedb988-e2a6-4f18-bf5c-e3ca53d20ea6",
   "metadata": {},
   "outputs": [
    {
     "name": "stdout",
     "output_type": "stream",
     "text": [
      "<tf.Variable 'Variable:0' shape=() dtype=float32, numpy=0.0>\n"
     ]
    }
   ],
   "source": [
    "w = tf.Variable(0, dtype = tf.float32) #initialize tensorFlow variable with 0 and its dataType is float32\n",
    "optimizer = tf.keras.optimizers.Adam(0.1) # use adam optimizer with learning rate 0.1\n",
    "\n",
    "def train_step():\n",
    "    with tf.GradientTape() as tape: #it can do backProp automatically\n",
    "        cost = w **2 - 10 * w + 25\n",
    "    trainable_variables = [w]\n",
    "    grads = tape.gradient(cost, trainable_variables)\n",
    "    optimizer.apply_gradients(zip(grads, trainable_variables))\n",
    "print(w)\n"
   ]
  },
  {
   "cell_type": "code",
   "execution_count": 4,
   "id": "b7a6ec90-9dc2-4576-893f-7c0dc22cb890",
   "metadata": {},
   "outputs": [
    {
     "name": "stdout",
     "output_type": "stream",
     "text": [
      "<tf.Variable 'Variable:0' shape=() dtype=float32, numpy=0.09999931>\n"
     ]
    }
   ],
   "source": [
    "train_step()\n",
    "print(w)"
   ]
  },
  {
   "cell_type": "code",
   "execution_count": 5,
   "id": "cff97ffe-b771-46d6-8a84-1533d7fe900b",
   "metadata": {},
   "outputs": [
    {
     "name": "stdout",
     "output_type": "stream",
     "text": [
      "<tf.Variable 'Variable:0' shape=() dtype=float32, numpy=5.000001>\n"
     ]
    }
   ],
   "source": [
    "for i in range(1000):\n",
    "    train_step()\n",
    "print(w)"
   ]
  },
  {
   "cell_type": "code",
   "execution_count": 6,
   "id": "5f6605b0-c845-4c91-8efe-0f1b2b81ed2f",
   "metadata": {},
   "outputs": [],
   "source": [
    "#Now let's say the cost not only depends on the parameters but it also depends on training set x and y"
   ]
  },
  {
   "cell_type": "code",
   "execution_count": 8,
   "id": "f73bcf6a-5b2c-43e4-aa79-742afdb393df",
   "metadata": {},
   "outputs": [],
   "source": [
    "w = tf.Variable(0, dtype = tf.float32)\n",
    "\n",
    "x = np.array([1.0, -10.0, 25.0], dtype = np.float32)\n",
    "optimizer = tf.keras.optimizers.Adam(0.1)"
   ]
  },
  {
   "cell_type": "code",
   "execution_count": 17,
   "id": "5e2da0c1-62d4-4e57-88e0-994cf949d08a",
   "metadata": {},
   "outputs": [],
   "source": [
    "def training(x, w, optimizer):\n",
    "    def cost_fn():\n",
    "        return x[0] * w**2 + x[1] * w + x[2]\n",
    "    for i in range(1000):\n",
    "        with tf.GradientTape() as tape:\n",
    "            cost = cost_fn()\n",
    "        grads = tape.gradient(cost, [w])\n",
    "        optimizer.apply_gradients(zip(grads, [w]))\n",
    "    return w"
   ]
  },
  {
   "cell_type": "code",
   "execution_count": 18,
   "id": "c5fbd915-b510-4ca9-900b-3b9e9a41b141",
   "metadata": {},
   "outputs": [
    {
     "name": "stdout",
     "output_type": "stream",
     "text": [
      "<tf.Variable 'Variable:0' shape=() dtype=float32, numpy=5.000001>\n"
     ]
    }
   ],
   "source": [
    "w = training(x, w, optimizer)\n",
    "print(w)"
   ]
  },
  {
   "cell_type": "code",
   "execution_count": null,
   "id": "f2cb23e8-cc4c-453a-8d8e-1d1568be80a3",
   "metadata": {},
   "outputs": [],
   "source": []
  }
 ],
 "metadata": {
  "kernelspec": {
   "display_name": "Python 3 (ipykernel)",
   "language": "python",
   "name": "python3"
  },
  "language_info": {
   "codemirror_mode": {
    "name": "ipython",
    "version": 3
   },
   "file_extension": ".py",
   "mimetype": "text/x-python",
   "name": "python",
   "nbconvert_exporter": "python",
   "pygments_lexer": "ipython3",
   "version": "3.12.4"
  }
 },
 "nbformat": 4,
 "nbformat_minor": 5
}
